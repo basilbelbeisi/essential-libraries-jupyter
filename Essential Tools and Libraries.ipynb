{
 "cells": [
  {
   "cell_type": "markdown",
   "id": "7c448ce0-6445-4b37-9041-9fb341d90a67",
   "metadata": {},
   "source": [
    "## [Getting Started with Python for Machine Learning: Essential Tools and Libraries](https://dataskillblog.com/getting-started-with-python-for-machine-learning)"
   ]
  },
  {
   "cell_type": "markdown",
   "id": "2cbeb0d8-ef60-4f58-bb02-97da66276c8b",
   "metadata": {},
   "source": [
    "\n",
    "To follow along with hands-on machine learning tutorials, you’ll need a Python environment set up with the right tools. Python is a popular language for ML thanks to its powerful libraries and ease of use. In this post, we’ll guide you through setting up Python for machine learning and introduce the essential libraries: NumPy, Pandas, Matplotlib, and scikit-learn. By the end, even if you come from a non-coding background, you’ll know how to get a Python environment ready and have a basic idea of what each key library is used for. (Don’t worry – we keep things beginner-friendly with analogies and simple examples!)"
   ]
  },
  {
   "cell_type": "markdown",
   "id": "b170a2f2-ca4c-4a8f-9482-a8fe94c851e0",
   "metadata": {},
   "source": [
    "## 1. NumPy – Numerical Computing in Python"
   ]
  },
  {
   "cell_type": "code",
   "execution_count": 23,
   "id": "5a907e55-f8e3-4385-9b37-73391989755f",
   "metadata": {},
   "outputs": [
    {
     "name": "stdout",
     "output_type": "stream",
     "text": [
      "[2 4 6 8]\n"
     ]
    }
   ],
   "source": [
    "import numpy as np  # import the NumPy library\n",
    "data = [1, 2, 3, 4]\n",
    "arr = np.array(data)            # create a NumPy array from the Python list\n",
    "print(arr * 2)                  # multiply each element by 2"
   ]
  },
  {
   "cell_type": "markdown",
   "id": "4582571e-ebcb-4fe8-9244-bb83b615410a",
   "metadata": {},
   "source": [
    "## 2. Pandas – Data Manipulation Made Easy"
   ]
  },
  {
   "cell_type": "code",
   "execution_count": 11,
   "id": "1cfbc844-0f4c-4b60-87f3-869c4f59a405",
   "metadata": {},
   "outputs": [
    {
     "name": "stdout",
     "output_type": "stream",
     "text": [
      "      Name  Age      City\n",
      "0    Alice   25  New York\n",
      "1      Bob   30     Paris\n",
      "2  Charlie   35    London\n"
     ]
    }
   ],
   "source": [
    "# Import Pandas library\n",
    "import pandas as pd\n",
    "\n",
    "# Create a DataFrame from a Python dictionary\n",
    "df = pd.DataFrame({\n",
    "    'Name': ['Alice', 'Bob', 'Charlie'],   # Names of people\n",
    "    'Age': [25, 30, 35],                   # Ages of each person\n",
    "    'City': ['New York', 'Paris', 'London'] # Cities they live in\n",
    "})\n",
    "\n",
    "# Display the first few rows of the DataFrame\n",
    "print(df.head())  # `.head()` shows the first 5 rows by default"
   ]
  },
  {
   "cell_type": "markdown",
   "id": "9ec53d5f-ff57-4ea1-bb3c-1a6375c9477a",
   "metadata": {},
   "source": [
    "## 3. Matplotlib – Data Visualization"
   ]
  },
  {
   "cell_type": "code",
   "execution_count": 14,
   "id": "7f695db3-0ff6-4f1f-a253-f3168b0f28dd",
   "metadata": {},
   "outputs": [
    {
     "data": {
      "image/png": "[encoded data removed]",
      "text/plain": [
       "<Figure size 640x480 with 1 Axes>"
      ]
     },
     "metadata": {},
     "output_type": "display_data"
    }
   ],
   "source": [
    "# Import Matplotlib for plotting\n",
    "import matplotlib.pyplot as plt\n",
    "\n",
    "# Define sample data\n",
    "x = [0, 1, 2, 3, 4]\n",
    "y = [0, 1, 4, 9, 16]  # y = x squared (y = x^2), for illustration\n",
    "\n",
    "# Create a simple line plot with markers at each point\n",
    "plt.plot(x, y, marker='o')\n",
    "\n",
    "# Add title and axis labels to the plot\n",
    "plt.title(\"Example Plot\")\n",
    "plt.xlabel(\"X values\")\n",
    "plt.ylabel(\"Y values\")\n",
    "\n",
    "# Display the plot\n",
    "plt.show()"
   ]
  },
  {
   "cell_type": "markdown",
   "id": "02565049-830b-4fe9-94e8-9c56a82c63f9",
   "metadata": {},
   "source": [
    "## 4. scikit-learn – Machine Learning Library"
   ]
  },
  {
   "cell_type": "code",
   "execution_count": 17,
   "id": "f0e6a44a-2b7d-4020-bd64-f44d87f9c0af",
   "metadata": {},
   "outputs": [
    {
     "name": "stdout",
     "output_type": "stream",
     "text": [
      "Predictions: [12. 14.]\n"
     ]
    }
   ],
   "source": [
    "# Import LinearRegression model from scikit-learn\n",
    "from sklearn.linear_model import LinearRegression\n",
    "import numpy as np\n",
    "\n",
    "# Training data (X values as features, y as targets)\n",
    "X = np.array([[1], [2], [3], [4], [5]])\n",
    "y = np.array([2, 4, 6, 8, 10])  # Relationship: y = 2*x\n",
    "\n",
    "# Create and train the linear regression model\n",
    "model = LinearRegression()\n",
    "model.fit(X, y)\n",
    "\n",
    "# Make predictions using the trained model\n",
    "new_X = np.array([[6], [7]])\n",
    "predictions = model.predict(new_X)\n",
    "\n",
    "print(\"Predictions:\", predictions)"
   ]
  },
  {
   "cell_type": "markdown",
   "id": "bae356fa-fd7b-4185-875c-ed5d22a83519",
   "metadata": {},
   "source": [
    "## Thank You !"
   ]
  },
  {
   "cell_type": "code",
   "execution_count": null,
   "id": "ffb72c91-9cb1-41b4-b1ad-040fe0a26431",
   "metadata": {},
   "outputs": [],
   "source": []
  }
 ],
 "metadata": {
  "kernelspec": {
   "display_name": "Python [conda env:base] *",
   "language": "python",
   "name": "conda-base-py"
  },
  "language_info": {
   "codemirror_mode": {
    "name": "ipython",
    "version": 3
   },
   "file_extension": ".py",
   "mimetype": "text/x-python",
   "name": "python",
   "nbconvert_exporter": "python",
   "pygments_lexer": "ipython3",
   "version": "3.12.7"
  }
 },
 "nbformat": 4,
 "nbformat_minor": 5
}
